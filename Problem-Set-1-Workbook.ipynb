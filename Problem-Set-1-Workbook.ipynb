{
  "nbformat": 4,
  "nbformat_minor": 0,
  "metadata": {
    "colab": {
      "provenance": []
    },
    "kernelspec": {
      "name": "python3",
      "display_name": "Python 3"
    },
    "language_info": {
      "name": "python"
    }
  },
  "cells": [
    {
      "cell_type": "code",
      "execution_count": null,
      "metadata": {
        "id": "qVg5WUcF49Bv",
        "outputId": "83576034-8a62-4932-afeb-e3958741f9e1"
      },
      "outputs": [
        {
          "output_type": "stream",
          "name": "stdout",
          "text": [
            "Requirement already satisfied: bezier in /usr/local/lib/python3.11/dist-packages (2024.6.20)\n",
            "Requirement already satisfied: numpy>=2.0.0 in /usr/local/lib/python3.11/dist-packages (from bezier) (2.2.2)\n"
          ]
        }
      ],
      "source": [
        "%pip install bezier\n",
        "import colorsys\n",
        "from PIL import Image\n",
        "import bezier\n",
        "import numpy\n",
        "from matplotlib import patches, pyplot"
      ]
    },
    {
      "cell_type": "markdown",
      "source": [
        "# RGB colors in HSL"
      ],
      "metadata": {
        "id": "hEaNWwyh49Bx"
      }
    },
    {
      "cell_type": "code",
      "source": [
        "rgb = (0, 255, 0)\n",
        "# scale components from [0, 255] to [0, 1]\n",
        "rgb_floats = tuple(val/255 for val in rgb)\n",
        "# convert color, using H-L-S order, not H-S-L\n",
        "hue, lightness, saturation = colorsys.rgb_to_hls(*rgb_floats)\n",
        "# scale hue to [0, 360] degrees\n",
        "hsl = (hue * 360, saturation, lightness)\n",
        "print(f\"RGB {rgb} = HSL {hsl}\")\n",
        "print(\"RGB color swatch:\")\n",
        "Image.new(\"RGB\", (20, 20), color=rgb)"
      ],
      "metadata": {
        "id": "sQdDWR8v49By",
        "outputId": "ebc4467b-7173-427d-9651-8fe953e76647"
      },
      "execution_count": null,
      "outputs": [
        {
          "output_type": "stream",
          "name": "stdout",
          "text": [
            "RGB (0, 255, 0) = HSL (120.0, 1.0, 0.5)\n",
            "RGB color swatch:\n"
          ]
        },
        {
          "output_type": "execute_result",
          "data": {
            "text/plain": [
              "<PIL.Image.Image image mode=RGB size=20x20>"
            ],
            "image/png": "[encoded data removed]",
            "image/jpeg": "[encoded data removed]"
          },
          "metadata": {},
          "execution_count": 2
        }
      ]
    },
    {
      "cell_type": "markdown",
      "source": [
        "# HSL colors in RGB"
      ],
      "metadata": {
        "id": "Kb4h47q549B0"
      }
    },
    {
      "cell_type": "code",
      "source": [
        "hue, saturation, lightness = (14, .8, .6)\n",
        "# scale hue from [0, 360] degrees to [0, 1] and use H-L-S order, not H-S-L\n",
        "hls_floats = (hue/360, lightness, saturation)\n",
        "rgb_floats = colorsys.hls_to_rgb(*hls_floats)\n",
        "# scale components from [0, 1] to [0, 255]\n",
        "rgb = tuple(round(val * 255) for val in rgb_floats)\n",
        "print(f\"HSL {hue, saturation, lightness} ≈ RGB {rgb}\")\n",
        "print(\"RGB color swatch:\")\n",
        "Image.new(\"RGB\", (20, 20), color=rgb)"
      ],
      "metadata": {
        "id": "xfW475Vv49B0",
        "outputId": "a6363fd3-a659-4529-bec6-04f8169538d5"
      },
      "execution_count": null,
      "outputs": [
        {
          "output_type": "stream",
          "name": "stdout",
          "text": [
            "HSL (14, 0.8, 0.6) ≈ RGB (235, 109, 71)\n",
            "RGB color swatch:\n"
          ]
        },
        {
          "output_type": "execute_result",
          "data": {
            "text/plain": [
              "<PIL.Image.Image image mode=RGB size=20x20>"
            ],
            "image/png": "[encoded data removed]",
            "image/jpeg": "[encoded data removed]"
          },
          "metadata": {},
          "execution_count": 3
        }
      ]
    },
    {
      "cell_type": "markdown",
      "source": [
        "# Finding one point on a Bézier curve"
      ],
      "metadata": {
        "id": "1Rmg7rPz49B0"
      }
    },
    {
      "cell_type": "code",
      "source": [
        "# create the curve\n",
        "controlPoints = [(2,3), (-3,5)]\n",
        "curve = bezier.Curve(numpy.array(controlPoints).transpose(), len(controlPoints)-1)\n",
        "# evaluate it at a given parameter value\n",
        "t = 1/2\n",
        "print(f\"value at t = {t} is\", curve.evaluate(t).transpose())"
      ],
      "metadata": {
        "id": "ltwnMwLf49B1",
        "outputId": "aed3ff9f-c7c2-44af-d503-ac8ec9b41ac1"
      },
      "execution_count": null,
      "outputs": [
        {
          "output_type": "stream",
          "name": "stdout",
          "text": [
            "value at t = 0.3333333333333333 is [[10.          3.55555556]]\n"
          ]
        }
      ]
    },
    {
      "cell_type": "markdown",
      "source": [
        "# Finding a set of points on a Bézier curve"
      ],
      "metadata": {
        "id": "baEd8ysH49B2"
      }
    },
    {
      "cell_type": "code",
      "source": [
        "controlPoints = [(0, 9), (50, 9), (0, 0), (30, 1)]\n",
        "curve = bezier.Curve(numpy.array(controlPoints).transpose(), len(controlPoints)-1)\n",
        "# create an array of parameter values:\n",
        "#   10 values linearly spaced from 0 to 1 that are then squared\n",
        "t_array = numpy.linspace(0, 1, 10) ** 2\n",
        "# evaluate at all of those parameter values\n",
        "print(f\"values at t=\", t_array, \"are...\")\n",
        "print(curve.evaluate_multi(t_array).transpose())"
      ],
      "metadata": {
        "id": "_h3GGLmL49B2",
        "outputId": "f8b61ba6-d4d0-4fa0-f430-925f7e4ec9de"
      },
      "execution_count": null,
      "outputs": [
        {
          "output_type": "stream",
          "name": "stdout",
          "text": [
            "values at t= [0.         0.01234568 0.04938272 0.11111111 0.19753086 0.30864198\n",
            " 0.44444444 0.60493827 0.79012346 1.        ] are...\n",
            "[[ 0.          9.        ]\n",
            " [ 1.80646582  8.99592053]\n",
            " [ 6.69748853  8.9364445 ]\n",
            " [13.20987654  8.69272977]\n",
            " [19.31141933  8.09294164]\n",
            " [23.01055056  6.98660623]\n",
            " [23.20987654  5.33470508]\n",
            " [20.80356992  3.3255112 ]\n",
            " [20.0186286   1.51616642]\n",
            " [30.          1.        ]]\n"
          ]
        }
      ]
    },
    {
      "cell_type": "markdown",
      "source": [
        "# Drawing a Bézier curve"
      ],
      "metadata": {
        "id": "U1pfyYDO49B3"
      }
    },
    {
      "cell_type": "code",
      "source": [
        "controlPoints = [(0, 9), (10, -6), (20, 16), (30, 0)]\n",
        "curve = bezier.Curve(numpy.array(controlPoints).transpose(), len(controlPoints)-1)\n",
        "# plot the curve\n",
        "curve.plot(num_pts=500)\n",
        "# plot the control points in black by pulling out their x and y coordinates\n",
        "pyplot.scatter(numpy.array(controlPoints)[:, 0], numpy.array(controlPoints)[:, 1], c=\"black\")\n",
        "# plot selected point in red by pulling out its x and y coordinates\n",
        "t = 1/3\n",
        "point = curve.evaluate(t).transpose()\n",
        "pyplot.scatter(point[:, 0], point[:, 1], c=\"red\")\n",
        "pyplot.axis(\"equal\") ;"
      ],
      "metadata": {
        "id": "AMWorX3W49B3",
        "outputId": "d68a5ec1-de66-462b-bbab-e398251f832c"
      },
      "execution_count": null,
      "outputs": [
        {
          "output_type": "display_data",
          "data": {
            "text/plain": [
              "<Figure size 640x480 with 1 Axes>"
            ],
            "image/png": "[encoded data removed]"
          },
          "metadata": {}
        }
      ]
    },
    {
      "cell_type": "code",
      "source": [
        "controlPoints = [(0, 9), (50, 9), (0, 0), (30, 1)]\n",
        "curve = bezier.Curve(numpy.array(controlPoints).transpose(), len(controlPoints)-1)\n",
        "# plot the curve\n",
        "curve.plot(num_pts=500)\n",
        "# plot the control points in black by pulling out their x and y coordinates\n",
        "pyplot.scatter(numpy.array(controlPoints)[:, 0], numpy.array(controlPoints)[:, 1], c=\"black\")\n",
        "# plot selected points in red by pulling out their x and y coordinates\n",
        "t_array = numpy.linspace(0, 1, 10) ** 2\n",
        "points = curve.evaluate_multi(t_array).transpose()\n",
        "pyplot.scatter(points[:, 0], points[:, 1], c=\"red\", s=15)\n",
        "pyplot.axis(\"equal\") ;"
      ],
      "metadata": {
        "id": "KrZtLZ_-49B4",
        "outputId": "f26f1e87-abd6-4df9-b17c-6584ffe3ec6c"
      },
      "execution_count": null,
      "outputs": [
        {
          "output_type": "display_data",
          "data": {
            "text/plain": [
              "<Figure size 640x480 with 1 Axes>"
            ],
            "image/png": "[encoded data removed]"
          },
          "metadata": {}
        }
      ]
    }
  ]
}